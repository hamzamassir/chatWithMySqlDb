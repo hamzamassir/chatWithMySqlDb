{
 "cells": [
  {
   "cell_type": "code",
   "execution_count": 17,
   "metadata": {},
   "outputs": [
    {
     "name": "stdout",
     "output_type": "stream",
     "text": [
      "Error: 1049 (42000): Unknown database 'sample_db'\n"
     ]
    }
   ],
   "source": [
    "import mysql.connector\n",
    "import getpass\n",
    "#add any database name u want to ask\n",
    "db_name=\"sample_db\"\n",
    "# to generate db from the sample if u have already setted a db skip this cell\n",
    "try:\n",
    "    password = getpass.getpass(\"Enter database password: \")\n",
    "    with mysql.connector.connect(\n",
    "        host=\"localhost\",\n",
    "        user=\"root\",\n",
    "        password=password,\n",
    "        database=db_name,\n",
    "        autocommit=True\n",
    "    ) as conn:\n",
    "        # Open the SQL script file and read its contents with explicit encoding\n",
    "        with open('./sql.sql', 'r', encoding='utf-8') as f:\n",
    "            sql_script = f.read()\n",
    "\n",
    "        # Split the script into individual SQL statements\n",
    "        sql_statements = sql_script.split(';')\n",
    "\n",
    "        # Execute each SQL statement\n",
    "        cursor = conn.cursor()\n",
    "        for statement in sql_statements:\n",
    "            if statement.strip():  # Skip empty statements\n",
    "                cursor.execute(statement)\n",
    "\n",
    "except mysql.connector.Error as err:\n",
    "    print(f\"Error: {err}\")\n",
    "\n",
    "finally:\n",
    "    # Close the cursor and database connection\n",
    "    if 'cursor' in locals():\n",
    "        cursor.close()\n",
    "\n",
    "    if 'conn' in locals() and conn.is_connected():\n",
    "        conn.close()"
   ]
  },
  {
   "cell_type": "code",
   "execution_count": 9,
   "metadata": {},
   "outputs": [
    {
     "name": "stdout",
     "output_type": "stream",
     "text": [
      "(1, 'John', 'Doe', 50000, 1)\n",
      "(2, 'Jane', 'Smith', 60000, 2)\n",
      "(3, 'Bob', 'Johnson', 55000, 3)\n"
     ]
    }
   ],
   "source": [
    "import mysql.connector\n",
    "\n",
    "# Connect to the MySQL database\n",
    "conn = mysql.connector.connect(\n",
    "        host=\"localhost\",\n",
    "        user=\"root\",\n",
    "        password=\"\",\n",
    "        database=db_name\n",
    ")\n",
    "\n",
    "# Create a cursor object to execute SQL queries\n",
    "cursor = conn.cursor()\n",
    "\n",
    "# Execute a SELECT query\n",
    "cursor.execute('SELECT * FROM employees')\n",
    "\n",
    "# Fetch the query results\n",
    "rows = cursor.fetchall()\n",
    "\n",
    "# Print the results\n",
    "for row in rows:\n",
    "    print(row)\n",
    "\n",
    "# Close the cursor and database connection\n",
    "cursor.close()\n",
    "conn.close()"
   ]
  },
  {
   "cell_type": "code",
   "execution_count": 10,
   "metadata": {},
   "outputs": [],
   "source": [
    "import os\n",
    "\n",
    "os.environ['OPENAI_API_KEY'] = \"....\" #generated API key"
   ]
  },
  {
   "cell_type": "code",
   "execution_count": 11,
   "metadata": {},
   "outputs": [],
   "source": [
    "from langchain.agents import create_sql_agent\n",
    "from langchain.agents.agent_toolkits import SQLDatabaseToolkit\n",
    "from langchain.sql_database import SQLDatabase\n",
    "from langchain_openai import OpenAI\n",
    "\n",
    "# Replace these with your MySQL connection details\n",
    "mysql_host = \"localhost\"\n",
    "mysql_user = \"root\"\n",
    "mysql_password = \"\"\n",
    "mysql_db = db_name\n",
    "\n",
    "# Create a MySQL engine\n",
    "db = SQLDatabase.from_uri(f\"mysql+mysqlconnector://{mysql_user}:{mysql_password}@{mysql_host}/{mysql_db}\")\n",
    "\n",
    "# Install the 'openai' module if not already installed\n",
    "# pip install openai\n",
    "\n",
    "# Create an OpenAI language model\n",
    "llm = OpenAI(temperature=0)\n",
    "\n",
    "# Create a SQL agent toolkit\n",
    "toolkit = SQLDatabaseToolkit(db=db, llm=llm)\n",
    "\n",
    "# Create a SQL agent executor\n",
    "agent_executor = create_sql_agent(\n",
    "    llm=llm,\n",
    "    toolkit=toolkit,\n",
    "    verbose=True\n",
    ")"
   ]
  },
  {
   "cell_type": "code",
   "execution_count": 12,
   "metadata": {},
   "outputs": [
    {
     "name": "stdout",
     "output_type": "stream",
     "text": [
      "\n",
      "\n",
      "\u001b[1m> Entering new AgentExecutor chain...\u001b[0m\n",
      "\u001b[32;1m\u001b[1;3m I need to use sql_db_query to count the number of rows in the employees table\n",
      "Action: sql_db_query\n",
      "Action Input: SELECT COUNT(*) FROM employees\u001b[0m\u001b[36;1m\u001b[1;3m[(3,)]\u001b[0m\u001b[32;1m\u001b[1;3m3 rows in the employees table\n",
      "Final Answer: 3 rows in the employees table\u001b[0m\n",
      "\n",
      "\u001b[1m> Finished chain.\u001b[0m\n"
     ]
    },
    {
     "data": {
      "text/plain": [
       "{'input': 'who many rows in employees table',\n",
       " 'output': '3 rows in the employees table'}"
      ]
     },
     "execution_count": 12,
     "metadata": {},
     "output_type": "execute_result"
    }
   ],
   "source": [
    "agent_executor.invoke(\"who many rows in employees table\")"
   ]
  }
 ],
 "metadata": {
  "kernelspec": {
   "display_name": "Python 3",
   "language": "python",
   "name": "python3"
  },
  "language_info": {
   "codemirror_mode": {
    "name": "ipython",
    "version": 3
   },
   "file_extension": ".py",
   "mimetype": "text/x-python",
   "name": "python",
   "nbconvert_exporter": "python",
   "pygments_lexer": "ipython3",
   "version": "3.12.2"
  },
  "orig_nbformat": 4
 },
 "nbformat": 4,
 "nbformat_minor": 2
}
